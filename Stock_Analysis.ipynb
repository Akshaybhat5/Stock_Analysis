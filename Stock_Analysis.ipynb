{
  "nbformat": 4,
  "nbformat_minor": 0,
  "metadata": {
    "colab": {
      "name": "Stock_Analysis.ipynb",
      "private_outputs": true,
      "provenance": []
    },
    "kernelspec": {
      "name": "python3",
      "display_name": "Python 3"
    },
    "language_info": {
      "name": "python"
    }
  },
  "cells": [
    {
      "cell_type": "markdown",
      "metadata": {
        "id": "etT11dcXUHBx"
      },
      "source": [
        "**STOCK ANALYSIS**"
      ]
    },
    {
      "cell_type": "code",
      "metadata": {
        "id": "JqrYbozwUMER"
      },
      "source": [
        "import pandas as pd\n",
        "import numpy as np\n",
        "import seaborn as sns\n",
        "import matplotlib.pyplot as plt\n",
        "import plotly.express as px\n",
        "import plotly.graph_objects as go\n",
        "import plotly.figure_factory as ff\n",
        "from scipy import stats\n",
        "from copy import copy"
      ],
      "execution_count": null,
      "outputs": []
    },
    {
      "cell_type": "code",
      "metadata": {
        "id": "9IcyyN-zUkCS"
      },
      "source": [
        "data = pd.read_csv('stock.csv')"
      ],
      "execution_count": null,
      "outputs": []
    },
    {
      "cell_type": "code",
      "metadata": {
        "id": "E358-2dBUrr2"
      },
      "source": [
        "data.head()"
      ],
      "execution_count": null,
      "outputs": []
    },
    {
      "cell_type": "code",
      "metadata": {
        "id": "cTDZ-DeYUtAK"
      },
      "source": [
        "data.isnull().sum()"
      ],
      "execution_count": null,
      "outputs": []
    },
    {
      "cell_type": "code",
      "metadata": {
        "id": "OfLOb3VgUzAd"
      },
      "source": [
        "def normalize(df):\n",
        "    x = df.copy()\n",
        "    for i in df.columns[1:]:\n",
        "        x[i] = x[i] / x[i][0]\n",
        "    return x\n",
        "\n",
        "def interactive_plot(df, title):\n",
        "    fig = px.line(title = title)\n",
        "    for i in df.columns[1:]:\n",
        "        fig.add_scatter(x = df['Date'], y = df[i])\n",
        "    return fig"
      ],
      "execution_count": null,
      "outputs": []
    },
    {
      "cell_type": "code",
      "metadata": {
        "id": "zlCM4xwyVpR3"
      },
      "source": [
        "# daily returns\n",
        "\n",
        "def daily_returns(df):\n",
        "    data_daily_returns = df.copy()\n",
        "    for i in df.columns[1:]:\n",
        "        for j in range(1, len(df)):\n",
        "            data_daily_returns[i][j] = ((df[i][j] - df[i][j-1]) / df[i][j-1]) * 100\n",
        "        data_daily_returns[i][0] = 0\n",
        "    return data_daily_returns"
      ],
      "execution_count": null,
      "outputs": []
    },
    {
      "cell_type": "code",
      "metadata": {
        "id": "eh9AhKExWUcP"
      },
      "source": [
        "stocks_daily_returns = daily_returns(data)"
      ],
      "execution_count": null,
      "outputs": []
    },
    {
      "cell_type": "code",
      "metadata": {
        "id": "OgwGwJQxWZgd"
      },
      "source": [
        "stocks_daily_returns"
      ],
      "execution_count": null,
      "outputs": []
    },
    {
      "cell_type": "code",
      "metadata": {
        "id": "bMQ6rKnKWdrf"
      },
      "source": [
        "stocks_daily_returns.mean()"
      ],
      "execution_count": null,
      "outputs": []
    },
    {
      "cell_type": "code",
      "metadata": {
        "id": "XwPVPwMdWftt"
      },
      "source": [
        "sns.set_theme(style='darkgrid')\n",
        "stocks_daily_returns.plot(kind = 'scatter', x = 'sp500', y = 'AAPL')\n",
        "plt.title('APPLE VS SP500', fontweight='bold')\n",
        "plt.tight_layout()"
      ],
      "execution_count": null,
      "outputs": []
    },
    {
      "cell_type": "code",
      "metadata": {
        "id": "0vJoFASuWwYw"
      },
      "source": [
        "b, a = np.polyfit(stocks_daily_returns['sp500'], stocks_daily_returns['AAPL'],1)"
      ],
      "execution_count": null,
      "outputs": []
    },
    {
      "cell_type": "code",
      "metadata": {
        "id": "lEvVclipXGf9"
      },
      "source": [
        "b"
      ],
      "execution_count": null,
      "outputs": []
    },
    {
      "cell_type": "code",
      "metadata": {
        "id": "xNpxBQoOXHp5"
      },
      "source": [
        "a"
      ],
      "execution_count": null,
      "outputs": []
    },
    {
      "cell_type": "code",
      "metadata": {
        "id": "-6XpFIz_XIcG"
      },
      "source": [
        "stocks_daily_returns.plot(kind = 'scatter', x = 'sp500', y = 'AAPL')\n",
        "plt.plot(stocks_daily_returns['sp500'], b*stocks_daily_returns['sp500']+a, '-',color='r')\n",
        "plt.title('SP500 VS APPLE', fontweight='bold')"
      ],
      "execution_count": null,
      "outputs": []
    },
    {
      "cell_type": "code",
      "metadata": {
        "id": "Wv-zX4DRXXdK"
      },
      "source": [
        "# apple_beta = 1.11 which is aggressive "
      ],
      "execution_count": null,
      "outputs": []
    },
    {
      "cell_type": "code",
      "metadata": {
        "id": "CbA69ffvXoaL"
      },
      "source": [
        "beta = {}\n",
        "alpha = {}\n",
        "\n",
        "for i in stocks_daily_returns.columns:\n",
        "    if i != 'Date' and i != 'sp500':\n",
        "        stocks_daily_returns.plot(kind = 'scatter', x = 'sp500', y = i)\n",
        "        b, a = np.polyfit(stocks_daily_returns['sp500'], stocks_daily_returns[i],1)\n",
        "        plt.plot(stocks_daily_returns['sp500'], b*stocks_daily_returns['sp500']+a, '-',color='r')\n",
        "        beta[i] = b\n",
        "        alpha[i] = a\n",
        "    plt.show()"
      ],
      "execution_count": null,
      "outputs": []
    },
    {
      "cell_type": "code",
      "metadata": {
        "id": "tftNm7G6YaeN"
      },
      "source": [
        "# plots\n",
        "\n",
        "for i in stocks_daily_returns.columns:\n",
        "    if i != 'Date' and i != 'sp500':\n",
        "        fig = px.scatter(stocks_daily_returns, x = 'sp500', y = i, title = i)\n",
        "        b,a = np.polyfit(stocks_daily_returns['sp500'], stocks_daily_returns[i],1)\n",
        "        fig.add_scatter(x = stocks_daily_returns['sp500'], y = b * stocks_daily_returns['sp500'] + a)\n",
        "        fig.show()"
      ],
      "execution_count": null,
      "outputs": []
    },
    {
      "cell_type": "code",
      "metadata": {
        "id": "qwzZf2yDZMUC"
      },
      "source": [
        "beta"
      ],
      "execution_count": null,
      "outputs": []
    },
    {
      "cell_type": "code",
      "metadata": {
        "id": "Yhv6pO94ZXtE"
      },
      "source": [
        "print(f'''The beta values for all the stocks :\n",
        " {beta}''')"
      ],
      "execution_count": null,
      "outputs": []
    },
    {
      "cell_type": "code",
      "metadata": {
        "id": "X4RcuBGfZeui"
      },
      "source": [
        "keys = list(beta.keys())"
      ],
      "execution_count": null,
      "outputs": []
    },
    {
      "cell_type": "code",
      "metadata": {
        "id": "d67CB0_XZmMD"
      },
      "source": [
        "keys"
      ],
      "execution_count": null,
      "outputs": []
    },
    {
      "cell_type": "code",
      "metadata": {
        "id": "Y4A1FEyfZmqa"
      },
      "source": [
        "ER = {}\n",
        "rf = 0"
      ],
      "execution_count": null,
      "outputs": []
    },
    {
      "cell_type": "code",
      "metadata": {
        "id": "GBMqQPP6Zpf6"
      },
      "source": [
        "rm = stocks_daily_returns['sp500'].mean() * 252"
      ],
      "execution_count": null,
      "outputs": []
    },
    {
      "cell_type": "code",
      "metadata": {
        "id": "hae2sfdAZtX-"
      },
      "source": [
        "rm"
      ],
      "execution_count": null,
      "outputs": []
    },
    {
      "cell_type": "code",
      "metadata": {
        "id": "f5FgqBIlZt8l"
      },
      "source": [
        "for i in keys:\n",
        "    ER[i] = rf + (beta[i] * (rm - rf))"
      ],
      "execution_count": null,
      "outputs": []
    },
    {
      "cell_type": "code",
      "metadata": {
        "id": "koZhZNmpZ1Md"
      },
      "source": [
        "ER"
      ],
      "execution_count": null,
      "outputs": []
    },
    {
      "cell_type": "code",
      "metadata": {
        "id": "q2gaH9xrZ17s"
      },
      "source": [
        "for i in keys:\n",
        "    print(f'The ER values of {i} is {round(ER[i],2)}')"
      ],
      "execution_count": null,
      "outputs": []
    },
    {
      "cell_type": "code",
      "metadata": {
        "id": "kyjLFtpgaAIE"
      },
      "source": [
        "ER_weights = 1/8 * np.ones(8)"
      ],
      "execution_count": null,
      "outputs": []
    },
    {
      "cell_type": "code",
      "metadata": {
        "id": "AJRwNgXIaIts"
      },
      "source": [
        "ER_weights"
      ],
      "execution_count": null,
      "outputs": []
    },
    {
      "cell_type": "code",
      "metadata": {
        "id": "_44LO2EtaKH2"
      },
      "source": [
        "ER_portfolio = sum(list(ER.values()) * ER_weights)"
      ],
      "execution_count": null,
      "outputs": []
    },
    {
      "cell_type": "code",
      "metadata": {
        "id": "aR3T3vwPaSkH"
      },
      "source": [
        "ER_portfolio"
      ],
      "execution_count": null,
      "outputs": []
    },
    {
      "cell_type": "code",
      "metadata": {
        "id": "nQNsoLeLaT8U"
      },
      "source": [
        "# with 50% allocation in apple stock\n",
        "ER_50_Apple = 0.50 * ER['AAPL']\n",
        "\n",
        "# with 50% allocation in amazon stock\n",
        "ER_50_Amazon = 0.50 * ER['AMZN']"
      ],
      "execution_count": null,
      "outputs": []
    },
    {
      "cell_type": "code",
      "metadata": {
        "id": "jS6YQnvralN4"
      },
      "source": [
        "ER_50_Amazon"
      ],
      "execution_count": null,
      "outputs": []
    },
    {
      "cell_type": "code",
      "metadata": {
        "id": "Urs4FWLGamoz"
      },
      "source": [
        "ER_50_Apple"
      ],
      "execution_count": null,
      "outputs": []
    },
    {
      "cell_type": "code",
      "metadata": {
        "id": "mCRbTAVCaoj1"
      },
      "source": [
        "# for both apple and amazon\n",
        "apple_amazon = ER_50_Amazon + ER_50_Apple"
      ],
      "execution_count": null,
      "outputs": []
    },
    {
      "cell_type": "code",
      "metadata": {
        "id": "pvEKfcH8av-a"
      },
      "source": [
        "apple_amazon"
      ],
      "execution_count": null,
      "outputs": []
    },
    {
      "cell_type": "code",
      "metadata": {
        "id": "ijc0Dgo_axH6"
      },
      "source": [
        "interactive_plot(data, 'PRICING')"
      ],
      "execution_count": null,
      "outputs": []
    },
    {
      "cell_type": "code",
      "metadata": {
        "id": "2NgcA1I1a0o1"
      },
      "source": [
        "interactive_plot(normalize(data), 'NORMALIZED PRICE')"
      ],
      "execution_count": null,
      "outputs": []
    },
    {
      "cell_type": "code",
      "metadata": {
        "id": "uZnMaPb_bAK5"
      },
      "source": [
        ""
      ],
      "execution_count": null,
      "outputs": []
    }
  ]
}